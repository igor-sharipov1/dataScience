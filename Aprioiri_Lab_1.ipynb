{
  "nbformat": 4,
  "nbformat_minor": 0,
  "metadata": {
    "colab": {
      "provenance": [],
      "authorship_tag": "ABX9TyPk7aE1IOaYFE5SheFXP/aa",
      "include_colab_link": true
    },
    "kernelspec": {
      "name": "python3",
      "display_name": "Python 3"
    },
    "language_info": {
      "name": "python"
    }
  },
  "cells": [
    {
      "cell_type": "markdown",
      "metadata": {
        "id": "view-in-github",
        "colab_type": "text"
      },
      "source": [
        "<a href=\"https://colab.research.google.com/github/igor-sharipov1/dataScience/blob/main/Aprioiri_Lab_1.ipynb\" target=\"_parent\"><img src=\"https://colab.research.google.com/assets/colab-badge.svg\" alt=\"Open In Colab\"/></a>"
      ]
    },
    {
      "cell_type": "code",
      "execution_count": null,
      "metadata": {
        "id": "Tei5bsMGRQb2"
      },
      "outputs": [],
      "source": [
        "import pandas as pd\n",
        "import numpy as np\n",
        "from mlxtend.frequent_patterns import apriori, association_rules\n",
        "import matplotlib.pyplot as plt\n",
        "import seaborn as sns\n",
        "import time\n",
        "\n",
        "# 1 dataset\n",
        "df = pd.read_csv('/content/retail_dataset.csv', sep=',') \n",
        "\n",
        "# 2 dataset\n",
        "#df = pd.read_csv('https://gist.githubusercontent.com/Harsh-Git-Hub/2979ec48043928ad9033d8469928e751/raw/72de943e040b8bd0d087624b154d41b2ba9d9b60/retail_dataset.csv', sep=',')\n",
        "\n",
        "df = df.dropna()\n",
        "df.head(10)\n",
        "\n",
        "counts = []\n",
        "waisted_time = []"
      ]
    },
    {
      "cell_type": "markdown",
      "source": [
        "Подгружаем используемые библиотеки, считываем файл с данными формата .csv "
      ],
      "metadata": {
        "id": "qX7OMfcpmP2W"
      }
    },
    {
      "cell_type": "code",
      "source": [
        "items = set()\n",
        "for col in df:\n",
        "    items.update(df[col].unique())\n",
        "print(items)"
      ],
      "metadata": {
        "colab": {
          "base_uri": "https://localhost:8080/"
        },
        "id": "soWyJedQR3b5",
        "outputId": "cc71b5bd-d511-44fc-830f-181dd56fabf8"
      },
      "execution_count": null,
      "outputs": [
        {
          "output_type": "stream",
          "name": "stdout",
          "text": [
            "{'Pencil', 'Eggs', 'Milk', 'Wine', 'Meat', 'Bread', 'Cheese', 'Bagel', 'Diaper'}\n"
          ]
        }
      ]
    },
    {
      "cell_type": "markdown",
      "source": [
        "Создаем множество всех встречающися в файле элементов"
      ],
      "metadata": {
        "id": "qmPR5wiDmi2a"
      }
    },
    {
      "cell_type": "code",
      "source": [
        "itemset = set(items)\n",
        "encoded_vals = []\n",
        "for index, row in df.iterrows():\n",
        "    rowset = set(row) \n",
        "    labels = {}\n",
        "    uncommons = list(itemset - rowset)\n",
        "    commons = list(itemset.intersection(rowset))\n",
        "    for uc in uncommons:\n",
        "        labels[uc] = 0\n",
        "    for com in commons:\n",
        "        labels[com] = 1\n",
        "    encoded_vals.append(labels)\n",
        "encoded_vals[0]\n",
        "ohe_df = pd.DataFrame(encoded_vals)"
      ],
      "metadata": {
        "id": "zIZ2-AFgR_Bu"
      },
      "execution_count": null,
      "outputs": []
    },
    {
      "cell_type": "markdown",
      "source": [
        "Преобразуем исходный файл с данными в DataFrame, описывающий частые наборы "
      ],
      "metadata": {
        "id": "0KLg38epmnVH"
      }
    },
    {
      "cell_type": "code",
      "source": [
        "def start_frequencies_set(min_supp):\n",
        "  start_time = time.time()\n",
        "  freq_items = apriori(ohe_df, min_support=min_supp, use_colnames=True)\n",
        "  end_time = time.time()\n",
        "  waisted_time.append(end_time - start_time)\n",
        "  counts.append(freq_items[\"itemsets\"].count())\n",
        "  print(freq_items)"
      ],
      "metadata": {
        "id": "uJtrGqULSLIn"
      },
      "execution_count": null,
      "outputs": []
    },
    {
      "cell_type": "markdown",
      "source": [
        "Функция для выполнения алгоритма Apriori и подсчета времени, и количества частых наборов для заданного порогового значения поддержки"
      ],
      "metadata": {
        "id": "SK1ALefNmwZt"
      }
    },
    {
      "cell_type": "code",
      "source": [
        "start_frequencies_set(0.01)"
      ],
      "metadata": {
        "colab": {
          "base_uri": "https://localhost:8080/"
        },
        "id": "4D9wWt3xiNq5",
        "outputId": "9aabc730-900b-46d6-967e-83373db71e5b"
      },
      "execution_count": null,
      "outputs": [
        {
          "output_type": "stream",
          "name": "stdout",
          "text": [
            "      support                                           itemsets\n",
            "0    0.682927                                            (Bagel)\n",
            "1    0.707317                                             (Milk)\n",
            "2    0.731707                                           (Pencil)\n",
            "3    0.780488                                             (Eggs)\n",
            "4    0.829268                                             (Meat)\n",
            "..        ...                                                ...\n",
            "468  0.024390   (Eggs, Meat, Wine, Bread, Cheese, Bagel, Diaper)\n",
            "469  0.121951    (Pencil, Eggs, Milk, Meat, Wine, Bread, Cheese)\n",
            "470  0.073171  (Pencil, Milk, Meat, Wine, Bread, Cheese, Diaper)\n",
            "471  0.048780    (Eggs, Milk, Meat, Wine, Bread, Cheese, Diaper)\n",
            "472  0.073171  (Pencil, Eggs, Meat, Wine, Bread, Cheese, Diaper)\n",
            "\n",
            "[473 rows x 2 columns]\n"
          ]
        }
      ]
    },
    {
      "cell_type": "code",
      "source": [
        "start_frequencies_set(0.03)"
      ],
      "metadata": {
        "colab": {
          "base_uri": "https://localhost:8080/"
        },
        "id": "a6rC32QGiRGT",
        "outputId": "a2e531b3-8e05-40ad-e22f-c15c2aa836ed"
      },
      "execution_count": null,
      "outputs": [
        {
          "output_type": "stream",
          "name": "stdout",
          "text": [
            "      support                                           itemsets\n",
            "0    0.682927                                            (Bagel)\n",
            "1    0.707317                                             (Milk)\n",
            "2    0.731707                                           (Pencil)\n",
            "3    0.780488                                             (Eggs)\n",
            "4    0.829268                                             (Meat)\n",
            "..        ...                                                ...\n",
            "455  0.048780  (Pencil, Meat, Wine, Bread, Cheese, Bagel, Dia...\n",
            "456  0.121951    (Pencil, Eggs, Milk, Meat, Wine, Bread, Cheese)\n",
            "457  0.073171  (Pencil, Milk, Meat, Wine, Bread, Cheese, Diaper)\n",
            "458  0.048780    (Eggs, Milk, Meat, Wine, Bread, Cheese, Diaper)\n",
            "459  0.073171  (Pencil, Eggs, Meat, Wine, Bread, Cheese, Diaper)\n",
            "\n",
            "[460 rows x 2 columns]\n"
          ]
        }
      ]
    },
    {
      "cell_type": "code",
      "source": [
        "start_frequencies_set(0.05)"
      ],
      "metadata": {
        "colab": {
          "base_uri": "https://localhost:8080/"
        },
        "id": "ZmUQURNuiWe8",
        "outputId": "faebfdf9-2a23-4ba6-f672-bfe1a7563ca5"
      },
      "execution_count": null,
      "outputs": [
        {
          "output_type": "stream",
          "name": "stdout",
          "text": [
            "      support                                           itemsets\n",
            "0    0.682927                                            (Bagel)\n",
            "1    0.707317                                             (Milk)\n",
            "2    0.731707                                           (Pencil)\n",
            "3    0.780488                                             (Eggs)\n",
            "4    0.829268                                             (Meat)\n",
            "..        ...                                                ...\n",
            "428  0.146341          (Eggs, Meat, Wine, Bread, Cheese, Diaper)\n",
            "429  0.097561  (Pencil, Eggs, Meat, Wine, Cheese, Bagel, Diaper)\n",
            "430  0.121951    (Pencil, Eggs, Milk, Meat, Wine, Bread, Cheese)\n",
            "431  0.073171  (Pencil, Milk, Meat, Wine, Bread, Cheese, Diaper)\n",
            "432  0.073171  (Pencil, Eggs, Meat, Wine, Bread, Cheese, Diaper)\n",
            "\n",
            "[433 rows x 2 columns]\n"
          ]
        }
      ]
    },
    {
      "cell_type": "code",
      "source": [
        "start_frequencies_set(0.1)"
      ],
      "metadata": {
        "colab": {
          "base_uri": "https://localhost:8080/"
        },
        "id": "lbycKKPjiXKq",
        "outputId": "f58c6925-c6e1-4a15-9dc7-1e8de912ae64"
      },
      "execution_count": null,
      "outputs": [
        {
          "output_type": "stream",
          "name": "stdout",
          "text": [
            "      support                                         itemsets\n",
            "0    0.682927                                          (Bagel)\n",
            "1    0.707317                                           (Milk)\n",
            "2    0.731707                                         (Pencil)\n",
            "3    0.780488                                           (Eggs)\n",
            "4    0.829268                                           (Meat)\n",
            "..        ...                                              ...\n",
            "369  0.170732       (Pencil, Eggs, Meat, Wine, Cheese, Diaper)\n",
            "370  0.121951      (Pencil, Eggs, Wine, Bread, Cheese, Diaper)\n",
            "371  0.195122      (Pencil, Meat, Wine, Bread, Cheese, Diaper)\n",
            "372  0.146341        (Eggs, Meat, Wine, Bread, Cheese, Diaper)\n",
            "373  0.121951  (Pencil, Eggs, Milk, Meat, Wine, Bread, Cheese)\n",
            "\n",
            "[374 rows x 2 columns]\n"
          ]
        }
      ]
    },
    {
      "cell_type": "code",
      "source": [
        "start_frequencies_set(0.15)"
      ],
      "metadata": {
        "colab": {
          "base_uri": "https://localhost:8080/"
        },
        "id": "Y7kktnW7iXfv",
        "outputId": "f7ce5119-8cb7-4be1-ad69-83edf1423f58"
      },
      "execution_count": null,
      "outputs": [
        {
          "output_type": "stream",
          "name": "stdout",
          "text": [
            "      support                                     itemsets\n",
            "0    0.682927                                      (Bagel)\n",
            "1    0.707317                                       (Milk)\n",
            "2    0.731707                                     (Pencil)\n",
            "3    0.780488                                       (Eggs)\n",
            "4    0.829268                                       (Meat)\n",
            "..        ...                                          ...\n",
            "316  0.170732      (Eggs, Milk, Meat, Wine, Bread, Cheese)\n",
            "317  0.170732    (Milk, Meat, Wine, Bread, Cheese, Diaper)\n",
            "318  0.195122    (Pencil, Eggs, Meat, Wine, Bread, Cheese)\n",
            "319  0.170732   (Pencil, Eggs, Meat, Wine, Cheese, Diaper)\n",
            "320  0.195122  (Pencil, Meat, Wine, Bread, Cheese, Diaper)\n",
            "\n",
            "[321 rows x 2 columns]\n"
          ]
        }
      ]
    },
    {
      "cell_type": "code",
      "source": [
        "min_supps = [0.01, 0.03,0.05, 0.1, 0.15]\n",
        "plt.figure(figsize=(5,5))\n",
        "sns.barplot(x = min_supps, y = counts, palette = 'gnuplot')\n",
        "plt.xlabel('Min support', size = 5)\n",
        "plt.xticks(rotation=45)\n",
        "plt.ylabel('Count of Items', size = 5)\n",
        "plt.title('Count of frequent sets per min support', color = 'green', size = 10)\n",
        "plt.show()\n",
        "print(\"Counts:\",counts)"
      ],
      "metadata": {
        "colab": {
          "base_uri": "https://localhost:8080/",
          "height": 373
        },
        "id": "Rf1s1Dsgia4T",
        "outputId": "eb00f610-9f25-41dd-9e17-b535c6fba164"
      },
      "execution_count": null,
      "outputs": [
        {
          "output_type": "display_data",
          "data": {
            "text/plain": [
              "<Figure size 360x360 with 1 Axes>"
            ],
            "image/png": "[encoded data removed]"
          },
          "metadata": {
            "needs_background": "light"
          }
        },
        {
          "output_type": "stream",
          "name": "stdout",
          "text": [
            "Counts: [473, 460, 433, 374, 321]\n"
          ]
        }
      ]
    },
    {
      "cell_type": "markdown",
      "source": [
        "На графике видна зависимость количества частых наборов при выполнении алгоритма Aprioiri от порогового значения поддержки, можно сделать вывод, что при увеличении параметра min_supp количество частых наборов уменьшается"
      ],
      "metadata": {
        "id": "xzlkL0B9m9pT"
      }
    },
    {
      "cell_type": "code",
      "source": [
        "plt.figure(figsize=(5,5))\n",
        "sns.barplot(x = min_supps, y = waisted_time, palette = 'gnuplot')\n",
        "plt.xlabel('Min support', size = 10)\n",
        "plt.xticks(rotation=45)\n",
        "plt.ylabel('Timee', size = 10)\n",
        "plt.title('Time to find frequent sets per min support', color = 'green', size = 10)\n",
        "plt.show()\n",
        "print(\"Time:\",waisted_time)"
      ],
      "metadata": {
        "colab": {
          "base_uri": "https://localhost:8080/",
          "height": 378
        },
        "id": "ButcqQV7j1Sb",
        "outputId": "bffa2ad2-3fb4-4659-f521-d76ded4a1d7a"
      },
      "execution_count": null,
      "outputs": [
        {
          "output_type": "display_data",
          "data": {
            "text/plain": [
              "<Figure size 360x360 with 1 Axes>"
            ],
            "image/png": "[encoded data removed]"
          },
          "metadata": {
            "needs_background": "light"
          }
        },
        {
          "output_type": "stream",
          "name": "stdout",
          "text": [
            "Time: [0.10782837867736816, 0.0657343864440918, 0.04387784004211426, 0.03550863265991211, 0.016640186309814453]\n"
          ]
        }
      ]
    },
    {
      "cell_type": "markdown",
      "source": [
        "На графике видна зависимость времени выполнения алгоритма Aprioiri от порогового значения поддержки, можно сделать вывод, что при увеличении параметра min_supp время, затрачиваемое на проход по алгоритму меньше"
      ],
      "metadata": {
        "id": "Vj6-HsKulQO2"
      }
    }
  ]
}