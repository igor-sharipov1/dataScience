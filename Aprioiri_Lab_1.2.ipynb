{
  "nbformat": 4,
  "nbformat_minor": 0,
  "metadata": {
    "colab": {
      "provenance": [],
      "authorship_tag": "ABX9TyNDMSp313KG0I6DnXvOJ5IM",
      "include_colab_link": true
    },
    "kernelspec": {
      "name": "python3",
      "display_name": "Python 3"
    },
    "language_info": {
      "name": "python"
    }
  },
  "cells": [
    {
      "cell_type": "markdown",
      "metadata": {
        "id": "view-in-github",
        "colab_type": "text"
      },
      "source": [
        "<a href=\"https://colab.research.google.com/github/igor-sharipov1/dataScience/blob/main/Aprioiri_Lab_1.2.ipynb\" target=\"_parent\"><img src=\"https://colab.research.google.com/assets/colab-badge.svg\" alt=\"Open In Colab\"/></a>"
      ]
    },
    {
      "cell_type": "code",
      "execution_count": 105,
      "metadata": {
        "id": "Tei5bsMGRQb2"
      },
      "outputs": [],
      "source": [
        "import pandas as pd\n",
        "import numpy as np\n",
        "from mlxtend.frequent_patterns import apriori, association_rules\n",
        "import matplotlib.pyplot as plt\n",
        "import seaborn as sns\n",
        "import time\n",
        "\n",
        "# 1 dataset\n",
        "#df = pd.read_csv('/content/retail_dataset.csv', sep=',') \n",
        "\n",
        "# 2 dataset\n",
        "df = pd.read_csv('https://gist.githubusercontent.com/Harsh-Git-Hub/2979ec48043928ad9033d8469928e751/raw/72de943e040b8bd0d087624b154d41b2ba9d9b60/retail_dataset.csv', sep=',')\n",
        "\n",
        "df = df.dropna()\n",
        "df.head(10)\n",
        "\n",
        "counts = []\n",
        "waisted_time = []\n",
        "\n",
        "all_rules = []\n",
        "all_assoc_rules = []"
      ]
    },
    {
      "cell_type": "markdown",
      "source": [
        "Подгружаем используемые библиотеки, считываем файл с данными формата .csv "
      ],
      "metadata": {
        "id": "qX7OMfcpmP2W"
      }
    },
    {
      "cell_type": "code",
      "source": [
        "items = set()\n",
        "for col in df:\n",
        "    items.update(df[col].unique())\n",
        "print(items)"
      ],
      "metadata": {
        "colab": {
          "base_uri": "https://localhost:8080/"
        },
        "id": "soWyJedQR3b5",
        "outputId": "f10576d2-6990-4948-d4d3-b713e2238cbc"
      },
      "execution_count": 106,
      "outputs": [
        {
          "output_type": "stream",
          "name": "stdout",
          "text": [
            "{'Milk', 'Eggs', 'Wine', 'Bagel', 'Meat', 'Pencil', 'Diaper', 'Cheese', 'Bread'}\n"
          ]
        }
      ]
    },
    {
      "cell_type": "markdown",
      "source": [
        "Создаем множество всех встречающися в файле элементов"
      ],
      "metadata": {
        "id": "qmPR5wiDmi2a"
      }
    },
    {
      "cell_type": "code",
      "source": [
        "itemset = set(items)\n",
        "encoded_vals = []\n",
        "for index, row in df.iterrows():\n",
        "    rowset = set(row) \n",
        "    labels = {}\n",
        "    uncommons = list(itemset - rowset)\n",
        "    commons = list(itemset.intersection(rowset))\n",
        "    for uc in uncommons:\n",
        "        labels[uc] = 0\n",
        "    for com in commons:\n",
        "        labels[com] = 1\n",
        "    encoded_vals.append(labels)\n",
        "encoded_vals[0]\n",
        "ohe_df = pd.DataFrame(encoded_vals)"
      ],
      "metadata": {
        "id": "zIZ2-AFgR_Bu"
      },
      "execution_count": 107,
      "outputs": []
    },
    {
      "cell_type": "markdown",
      "source": [
        "Преобразуем исходный файл с данными в DataFrame, описывающий частые наборы "
      ],
      "metadata": {
        "id": "0KLg38epmnVH"
      }
    },
    {
      "cell_type": "code",
      "source": [
        "start_time = time.time()\n",
        "freq_items = apriori(ohe_df, min_support=0.1, use_colnames=True)\n",
        "end_time = time.time()\n",
        "waisted_time.append(end_time - start_time)\n",
        "counts.append(freq_items[\"itemsets\"].count())\n",
        "print(freq_items)"
      ],
      "metadata": {
        "id": "uJtrGqULSLIn",
        "colab": {
          "base_uri": "https://localhost:8080/"
        },
        "outputId": "449b67cc-b8ee-41d1-b81a-20a771869dc1"
      },
      "execution_count": 108,
      "outputs": [
        {
          "output_type": "stream",
          "name": "stdout",
          "text": [
            "      support                                         itemsets\n",
            "0    0.707317                                           (Milk)\n",
            "1    0.682927                                          (Bagel)\n",
            "2    0.780488                                           (Eggs)\n",
            "3    0.926829                                           (Wine)\n",
            "4    0.829268                                           (Meat)\n",
            "..        ...                                              ...\n",
            "369  0.195122        (Eggs, Wine, Meat, Pencil, Cheese, Bread)\n",
            "370  0.146341        (Eggs, Wine, Meat, Diaper, Cheese, Bread)\n",
            "371  0.121951      (Eggs, Wine, Pencil, Diaper, Cheese, Bread)\n",
            "372  0.195122      (Wine, Meat, Pencil, Diaper, Cheese, Bread)\n",
            "373  0.121951  (Milk, Eggs, Wine, Meat, Pencil, Cheese, Bread)\n",
            "\n",
            "[374 rows x 2 columns]\n"
          ]
        }
      ]
    },
    {
      "cell_type": "markdown",
      "source": [
        "Функция для выполнения алгоритма Apriori и подсчета времени, и количества частых наборов для заданного порогового значения поддержки"
      ],
      "metadata": {
        "id": "SK1ALefNmwZt"
      }
    },
    {
      "cell_type": "markdown",
      "source": [
        "На графике видна зависимость количества частых наборов при выполнении алгоритма Aprioiri от порогового значения поддержки, можно сделать вывод, что при увеличении параметра min_supp количество частых наборов уменьшается"
      ],
      "metadata": {
        "id": "xzlkL0B9m9pT"
      }
    },
    {
      "cell_type": "markdown",
      "source": [
        "На графике видна зависимость времени выполнения алгоритма Aprioiri от порогового значения поддержки, можно сделать вывод, что при увеличении параметра min_supp время, затрачиваемое на проход по алгоритму меньше"
      ],
      "metadata": {
        "id": "Vj6-HsKulQO2"
      }
    },
    {
      "cell_type": "code",
      "source": [
        "def assoc_rules(threshold):\n",
        "  start = time.time()\n",
        "  rules = association_rules(freq_items, metric=\"confidence\", min_threshold=threshold)\n",
        "  end = time.time() - start\n",
        "  print(rules)\n",
        "  all_rules.append(len(rules))\n",
        "  all_assoc_rules.append(end)"
      ],
      "metadata": {
        "id": "7TqpUtQgnW93"
      },
      "execution_count": 109,
      "outputs": []
    },
    {
      "cell_type": "code",
      "source": [
        "all_thresholds = [0.7, 0.75, 0.8, 0.85, 0.9, 0.95]\n",
        "assoc_rules(0.7)"
      ],
      "metadata": {
        "colab": {
          "base_uri": "https://localhost:8080/"
        },
        "id": "HwT78jGzniOf",
        "outputId": "d442a0fe-ceeb-4d4d-a9d8-bc6322dc067e"
      },
      "execution_count": 110,
      "outputs": [
        {
          "output_type": "stream",
          "name": "stdout",
          "text": [
            "                                   antecedents    consequents  \\\n",
            "0                                       (Milk)         (Eggs)   \n",
            "1                                       (Milk)         (Wine)   \n",
            "2                                       (Milk)         (Meat)   \n",
            "3                                       (Meat)         (Milk)   \n",
            "4                                       (Milk)       (Cheese)   \n",
            "..                                         ...            ...   \n",
            "754    (Milk, Eggs, Wine, Meat, Pencil, Bread)       (Cheese)   \n",
            "755    (Milk, Eggs, Wine, Meat, Cheese, Bread)       (Pencil)   \n",
            "756  (Milk, Eggs, Wine, Pencil, Cheese, Bread)         (Meat)   \n",
            "757  (Milk, Eggs, Meat, Pencil, Cheese, Bread)         (Wine)   \n",
            "758         (Milk, Eggs, Meat, Pencil, Cheese)  (Wine, Bread)   \n",
            "\n",
            "     antecedent support  consequent support   support  confidence      lift  \\\n",
            "0              0.707317            0.780488  0.536585    0.758621  0.971983   \n",
            "1              0.707317            0.926829  0.634146    0.896552  0.967332   \n",
            "2              0.707317            0.829268  0.585366    0.827586  0.997972   \n",
            "3              0.829268            0.707317  0.585366    0.705882  0.997972   \n",
            "4              0.707317            0.829268  0.536585    0.758621  0.914807   \n",
            "..                  ...                 ...       ...         ...       ...   \n",
            "754            0.170732            0.829268  0.121951    0.714286  0.861345   \n",
            "755            0.170732            0.731707  0.121951    0.714286  0.976190   \n",
            "756            0.170732            0.829268  0.121951    0.714286  0.861345   \n",
            "757            0.146341            0.926829  0.121951    0.833333  0.899123   \n",
            "758            0.170732            0.756098  0.121951    0.714286  0.944700   \n",
            "\n",
            "     leverage  conviction  \n",
            "0   -0.015467    0.909408  \n",
            "1   -0.021416    0.707317  \n",
            "2   -0.001190    0.990244  \n",
            "3   -0.001190    0.995122  \n",
            "4   -0.049970    0.707317  \n",
            "..        ...         ...  \n",
            "754 -0.019631    0.597561  \n",
            "755 -0.002974    0.939024  \n",
            "756 -0.019631    0.597561  \n",
            "757 -0.013682    0.439024  \n",
            "758 -0.007139    0.853659  \n",
            "\n",
            "[759 rows x 9 columns]\n"
          ]
        }
      ]
    },
    {
      "cell_type": "code",
      "source": [
        "assoc_rules(0.75)"
      ],
      "metadata": {
        "colab": {
          "base_uri": "https://localhost:8080/"
        },
        "id": "i4qHcMF6o0rZ",
        "outputId": "2ffe4d79-7c25-454c-8285-8b546d98a222"
      },
      "execution_count": 111,
      "outputs": [
        {
          "output_type": "stream",
          "name": "stdout",
          "text": [
            "                                   antecedents     consequents  \\\n",
            "0                                       (Milk)          (Eggs)   \n",
            "1                                       (Milk)          (Wine)   \n",
            "2                                       (Milk)          (Meat)   \n",
            "3                                       (Milk)        (Cheese)   \n",
            "4                                       (Milk)         (Bread)   \n",
            "..                                         ...             ...   \n",
            "484      (Meat, Pencil, Diaper, Cheese, Bread)          (Wine)   \n",
            "485              (Meat, Pencil, Diaper, Bread)  (Wine, Cheese)   \n",
            "486            (Pencil, Diaper, Cheese, Bread)    (Meat, Wine)   \n",
            "487   (Milk, Eggs, Wine, Meat, Pencil, Cheese)         (Bread)   \n",
            "488  (Milk, Eggs, Meat, Pencil, Cheese, Bread)          (Wine)   \n",
            "\n",
            "     antecedent support  consequent support   support  confidence      lift  \\\n",
            "0              0.707317            0.780488  0.536585    0.758621  0.971983   \n",
            "1              0.707317            0.926829  0.634146    0.896552  0.967332   \n",
            "2              0.707317            0.829268  0.585366    0.827586  0.997972   \n",
            "3              0.707317            0.829268  0.536585    0.758621  0.914807   \n",
            "4              0.707317            0.829268  0.634146    0.896552  1.081136   \n",
            "..                  ...                 ...       ...         ...       ...   \n",
            "484            0.195122            0.926829  0.195122    1.000000  1.078947   \n",
            "485            0.243902            0.804878  0.195122    0.800000  0.993939   \n",
            "486            0.243902            0.756098  0.195122    0.800000  1.058065   \n",
            "487            0.146341            0.829268  0.121951    0.833333  1.004902   \n",
            "488            0.146341            0.926829  0.121951    0.833333  0.899123   \n",
            "\n",
            "     leverage  conviction  \n",
            "0   -0.015467    0.909408  \n",
            "1   -0.021416    0.707317  \n",
            "2   -0.001190    0.990244  \n",
            "3   -0.049970    0.707317  \n",
            "4    0.047591    1.650407  \n",
            "..        ...         ...  \n",
            "484  0.014277         inf  \n",
            "485 -0.001190    0.975610  \n",
            "486  0.010708    1.219512  \n",
            "487  0.000595    1.024390  \n",
            "488 -0.013682    0.439024  \n",
            "\n",
            "[489 rows x 9 columns]\n"
          ]
        }
      ]
    },
    {
      "cell_type": "code",
      "source": [
        "assoc_rules(0.8)"
      ],
      "metadata": {
        "colab": {
          "base_uri": "https://localhost:8080/"
        },
        "id": "_21w7HV2o3oV",
        "outputId": "640fd262-0a91-4278-dd36-25a24c001af4"
      },
      "execution_count": 112,
      "outputs": [
        {
          "output_type": "stream",
          "name": "stdout",
          "text": [
            "                                   antecedents     consequents  \\\n",
            "0                                       (Milk)          (Wine)   \n",
            "1                                       (Milk)          (Meat)   \n",
            "2                                       (Milk)         (Bread)   \n",
            "3                                      (Bagel)          (Wine)   \n",
            "4                                       (Eggs)          (Wine)   \n",
            "..                                         ...             ...   \n",
            "294      (Meat, Pencil, Diaper, Cheese, Bread)          (Wine)   \n",
            "295              (Meat, Pencil, Diaper, Bread)  (Wine, Cheese)   \n",
            "296            (Pencil, Diaper, Cheese, Bread)    (Meat, Wine)   \n",
            "297   (Milk, Eggs, Wine, Meat, Pencil, Cheese)         (Bread)   \n",
            "298  (Milk, Eggs, Meat, Pencil, Cheese, Bread)          (Wine)   \n",
            "\n",
            "     antecedent support  consequent support   support  confidence      lift  \\\n",
            "0              0.707317            0.926829  0.634146    0.896552  0.967332   \n",
            "1              0.707317            0.829268  0.585366    0.827586  0.997972   \n",
            "2              0.707317            0.829268  0.634146    0.896552  1.081136   \n",
            "3              0.682927            0.926829  0.609756    0.892857  0.963346   \n",
            "4              0.780488            0.926829  0.707317    0.906250  0.977796   \n",
            "..                  ...                 ...       ...         ...       ...   \n",
            "294            0.195122            0.926829  0.195122    1.000000  1.078947   \n",
            "295            0.243902            0.804878  0.195122    0.800000  0.993939   \n",
            "296            0.243902            0.756098  0.195122    0.800000  1.058065   \n",
            "297            0.146341            0.829268  0.121951    0.833333  1.004902   \n",
            "298            0.146341            0.926829  0.121951    0.833333  0.899123   \n",
            "\n",
            "     leverage  conviction  \n",
            "0   -0.021416    0.707317  \n",
            "1   -0.001190    0.990244  \n",
            "2    0.047591    1.650407  \n",
            "3   -0.023200    0.682927  \n",
            "4   -0.016062    0.780488  \n",
            "..        ...         ...  \n",
            "294  0.014277         inf  \n",
            "295 -0.001190    0.975610  \n",
            "296  0.010708    1.219512  \n",
            "297  0.000595    1.024390  \n",
            "298 -0.013682    0.439024  \n",
            "\n",
            "[299 rows x 9 columns]\n"
          ]
        }
      ]
    },
    {
      "cell_type": "code",
      "source": [
        "assoc_rules(0.85)"
      ],
      "metadata": {
        "colab": {
          "base_uri": "https://localhost:8080/"
        },
        "id": "Ae9TPh3ho4up",
        "outputId": "da42967e-e6f6-4c79-c237-50c46e4e5ea8"
      },
      "execution_count": 113,
      "outputs": [
        {
          "output_type": "stream",
          "name": "stdout",
          "text": [
            "                               antecedents consequents  antecedent support  \\\n",
            "0                                   (Milk)      (Wine)            0.707317   \n",
            "1                                   (Milk)     (Bread)            0.707317   \n",
            "2                                  (Bagel)      (Wine)            0.682927   \n",
            "3                                   (Eggs)      (Wine)            0.780488   \n",
            "4                                   (Meat)      (Wine)            0.829268   \n",
            "..                                     ...         ...                 ...   \n",
            "169    (Eggs, Meat, Pencil, Cheese, Bread)      (Wine)            0.219512   \n",
            "170    (Eggs, Meat, Diaper, Cheese, Bread)      (Wine)            0.146341   \n",
            "171  (Eggs, Pencil, Diaper, Cheese, Bread)      (Wine)            0.121951   \n",
            "172    (Wine, Meat, Pencil, Diaper, Bread)    (Cheese)            0.195122   \n",
            "173  (Meat, Pencil, Diaper, Cheese, Bread)      (Wine)            0.195122   \n",
            "\n",
            "     consequent support   support  confidence      lift  leverage  conviction  \n",
            "0              0.926829  0.634146    0.896552  0.967332 -0.021416    0.707317  \n",
            "1              0.829268  0.634146    0.896552  1.081136  0.047591    1.650407  \n",
            "2              0.926829  0.609756    0.892857  0.963346 -0.023200    0.682927  \n",
            "3              0.926829  0.707317    0.906250  0.977796 -0.016062    0.780488  \n",
            "4              0.926829  0.756098    0.911765  0.983746 -0.012493    0.829268  \n",
            "..                  ...       ...         ...       ...       ...         ...  \n",
            "169            0.926829  0.195122    0.888889  0.959064 -0.008328    0.658537  \n",
            "170            0.926829  0.146341    1.000000  1.078947  0.010708         inf  \n",
            "171            0.926829  0.121951    1.000000  1.078947  0.008923         inf  \n",
            "172            0.829268  0.195122    1.000000  1.205882  0.033314         inf  \n",
            "173            0.926829  0.195122    1.000000  1.078947  0.014277         inf  \n",
            "\n",
            "[174 rows x 9 columns]\n"
          ]
        }
      ]
    },
    {
      "cell_type": "code",
      "source": [
        "assoc_rules(0.9)"
      ],
      "metadata": {
        "colab": {
          "base_uri": "https://localhost:8080/"
        },
        "id": "b1WrypXxo57F",
        "outputId": "a0a84a9d-9168-4c93-e791-527e5e4e1113"
      },
      "execution_count": 114,
      "outputs": [
        {
          "output_type": "stream",
          "name": "stdout",
          "text": [
            "                              antecedents consequents  antecedent support  \\\n",
            "0                                  (Eggs)      (Wine)            0.780488   \n",
            "1                                  (Meat)      (Wine)            0.829268   \n",
            "2                                (Pencil)      (Wine)            0.731707   \n",
            "3                                (Diaper)      (Wine)            0.682927   \n",
            "4                                (Cheese)      (Wine)            0.829268   \n",
            "..                                    ...         ...                 ...   \n",
            "93   (Eggs, Meat, Pencil, Diaper, Cheese)      (Wine)            0.170732   \n",
            "94    (Eggs, Meat, Diaper, Cheese, Bread)      (Wine)            0.146341   \n",
            "95  (Eggs, Pencil, Diaper, Cheese, Bread)      (Wine)            0.121951   \n",
            "96    (Wine, Meat, Pencil, Diaper, Bread)    (Cheese)            0.195122   \n",
            "97  (Meat, Pencil, Diaper, Cheese, Bread)      (Wine)            0.195122   \n",
            "\n",
            "    consequent support   support  confidence      lift  leverage  conviction  \n",
            "0             0.926829  0.707317    0.906250  0.977796 -0.016062    0.780488  \n",
            "1             0.926829  0.756098    0.911765  0.983746 -0.012493    0.829268  \n",
            "2             0.926829  0.658537    0.900000  0.971053 -0.019631    0.731707  \n",
            "3             0.926829  0.634146    0.928571  1.001880  0.001190    1.024390  \n",
            "4             0.926829  0.804878    0.970588  1.047214  0.036288    2.487805  \n",
            "..                 ...       ...         ...       ...       ...         ...  \n",
            "93            0.926829  0.170732    1.000000  1.078947  0.012493         inf  \n",
            "94            0.926829  0.146341    1.000000  1.078947  0.010708         inf  \n",
            "95            0.926829  0.121951    1.000000  1.078947  0.008923         inf  \n",
            "96            0.829268  0.195122    1.000000  1.205882  0.033314         inf  \n",
            "97            0.926829  0.195122    1.000000  1.078947  0.014277         inf  \n",
            "\n",
            "[98 rows x 9 columns]\n"
          ]
        }
      ]
    },
    {
      "cell_type": "code",
      "source": [
        "assoc_rules(0.95)"
      ],
      "metadata": {
        "colab": {
          "base_uri": "https://localhost:8080/"
        },
        "id": "k6m3suB-o61Z",
        "outputId": "d3aa047e-5518-44fc-b6c4-f5fc4a872e47"
      },
      "execution_count": 115,
      "outputs": [
        {
          "output_type": "stream",
          "name": "stdout",
          "text": [
            "                              antecedents consequents  antecedent support  \\\n",
            "0                                (Cheese)      (Wine)            0.829268   \n",
            "1                          (Milk, Cheese)      (Wine)            0.536585   \n",
            "2                         (Bagel, Cheese)      (Wine)            0.512195   \n",
            "3                          (Eggs, Cheese)      (Wine)            0.609756   \n",
            "4                          (Meat, Cheese)      (Wine)            0.682927   \n",
            "5                        (Pencil, Cheese)      (Wine)            0.609756   \n",
            "6                        (Diaper, Cheese)      (Wine)            0.560976   \n",
            "7                         (Cheese, Bread)      (Wine)            0.658537   \n",
            "8                  (Milk, Diaper, Cheese)      (Wine)            0.268293   \n",
            "9                  (Milk, Pencil, Diaper)     (Bread)            0.146341   \n",
            "10                (Bagel, Diaper, Cheese)      (Wine)            0.365854   \n",
            "11                 (Diaper, Eggs, Cheese)      (Wine)            0.390244   \n",
            "12                 (Meat, Pencil, Cheese)      (Wine)            0.512195   \n",
            "13                 (Meat, Diaper, Cheese)      (Wine)            0.463415   \n",
            "14                  (Meat, Cheese, Bread)      (Wine)            0.512195   \n",
            "15               (Pencil, Diaper, Cheese)      (Wine)            0.341463   \n",
            "16                (Pencil, Cheese, Bread)      (Wine)            0.487805   \n",
            "17                (Diaper, Cheese, Bread)      (Wine)            0.414634   \n",
            "18          (Milk, Bagel, Cheese, Diaper)      (Wine)            0.146341   \n",
            "19           (Milk, Diaper, Eggs, Cheese)      (Wine)            0.146341   \n",
            "20           (Milk, Meat, Diaper, Cheese)      (Wine)            0.219512   \n",
            "21          (Milk, Diaper, Cheese, Bread)      (Wine)            0.219512   \n",
            "22           (Milk, Meat, Pencil, Diaper)     (Bread)            0.121951   \n",
            "23          (Bagel, Diaper, Eggs, Cheese)      (Wine)            0.268293   \n",
            "24          (Bagel, Meat, Diaper, Cheese)      (Wine)            0.268293   \n",
            "25        (Bagel, Pencil, Diaper, Cheese)      (Wine)            0.195122   \n",
            "26         (Bagel, Diaper, Cheese, Bread)      (Wine)            0.219512   \n",
            "27           (Meat, Diaper, Eggs, Cheese)      (Wine)            0.292683   \n",
            "28         (Pencil, Diaper, Eggs, Cheese)      (Wine)            0.219512   \n",
            "29          (Diaper, Eggs, Bread, Cheese)      (Wine)            0.243902   \n",
            "30           (Meat, Pencil, Diaper, Wine)    (Cheese)            0.292683   \n",
            "31         (Meat, Pencil, Diaper, Cheese)      (Wine)            0.292683   \n",
            "32          (Meat, Diaper, Cheese, Bread)      (Wine)            0.317073   \n",
            "33        (Pencil, Diaper, Cheese, Bread)      (Wine)            0.243902   \n",
            "34     (Eggs, Meat, Bagel, Pencil, Bread)      (Milk)            0.121951   \n",
            "35    (Milk, Meat, Diaper, Cheese, Bread)      (Wine)            0.170732   \n",
            "36    (Eggs, Bagel, Meat, Diaper, Cheese)      (Wine)            0.170732   \n",
            "37  (Eggs, Bagel, Pencil, Diaper, Cheese)      (Wine)            0.146341   \n",
            "38   (Eggs, Bagel, Diaper, Cheese, Bread)      (Wine)            0.121951   \n",
            "39    (Wine, Bagel, Meat, Pencil, Diaper)    (Cheese)            0.146341   \n",
            "40  (Bagel, Meat, Pencil, Diaper, Cheese)      (Wine)            0.146341   \n",
            "41   (Bagel, Meat, Diaper, Cheese, Bread)      (Wine)            0.121951   \n",
            "42     (Eggs, Wine, Meat, Pencil, Diaper)    (Cheese)            0.170732   \n",
            "43   (Eggs, Meat, Pencil, Diaper, Cheese)      (Wine)            0.170732   \n",
            "44    (Eggs, Meat, Diaper, Cheese, Bread)      (Wine)            0.146341   \n",
            "45  (Eggs, Pencil, Diaper, Cheese, Bread)      (Wine)            0.121951   \n",
            "46    (Wine, Meat, Pencil, Diaper, Bread)    (Cheese)            0.195122   \n",
            "47  (Meat, Pencil, Diaper, Cheese, Bread)      (Wine)            0.195122   \n",
            "\n",
            "    consequent support   support  confidence      lift  leverage  conviction  \n",
            "0             0.926829  0.804878    0.970588  1.047214  0.036288    2.487805  \n",
            "1             0.926829  0.512195    0.954545  1.029904  0.014872    1.609756  \n",
            "2             0.926829  0.487805    0.952381  1.027569  0.013087    1.536585  \n",
            "3             0.926829  0.585366    0.960000  1.035789  0.020226    1.829268  \n",
            "4             0.926829  0.658537    0.964286  1.040414  0.025580    2.048780  \n",
            "5             0.926829  0.585366    0.960000  1.035789  0.020226    1.829268  \n",
            "6             0.926829  0.560976    1.000000  1.078947  0.041047         inf  \n",
            "7             0.926829  0.634146    0.962963  1.038986  0.023795    1.975610  \n",
            "8             0.926829  0.268293    1.000000  1.078947  0.019631         inf  \n",
            "9             0.829268  0.146341    1.000000  1.205882  0.024985         inf  \n",
            "10            0.926829  0.365854    1.000000  1.078947  0.026770         inf  \n",
            "11            0.926829  0.390244    1.000000  1.078947  0.028554         inf  \n",
            "12            0.926829  0.487805    0.952381  1.027569  0.013087    1.536585  \n",
            "13            0.926829  0.463415    1.000000  1.078947  0.033908         inf  \n",
            "14            0.926829  0.487805    0.952381  1.027569  0.013087    1.536585  \n",
            "15            0.926829  0.341463    1.000000  1.078947  0.024985         inf  \n",
            "16            0.926829  0.463415    0.950000  1.025000  0.011303    1.463415  \n",
            "17            0.926829  0.414634    1.000000  1.078947  0.030339         inf  \n",
            "18            0.926829  0.146341    1.000000  1.078947  0.010708         inf  \n",
            "19            0.926829  0.146341    1.000000  1.078947  0.010708         inf  \n",
            "20            0.926829  0.219512    1.000000  1.078947  0.016062         inf  \n",
            "21            0.926829  0.219512    1.000000  1.078947  0.016062         inf  \n",
            "22            0.829268  0.121951    1.000000  1.205882  0.020821         inf  \n",
            "23            0.926829  0.268293    1.000000  1.078947  0.019631         inf  \n",
            "24            0.926829  0.268293    1.000000  1.078947  0.019631         inf  \n",
            "25            0.926829  0.195122    1.000000  1.078947  0.014277         inf  \n",
            "26            0.926829  0.219512    1.000000  1.078947  0.016062         inf  \n",
            "27            0.926829  0.292683    1.000000  1.078947  0.021416         inf  \n",
            "28            0.926829  0.219512    1.000000  1.078947  0.016062         inf  \n",
            "29            0.926829  0.243902    1.000000  1.078947  0.017847         inf  \n",
            "30            0.829268  0.292683    1.000000  1.205882  0.049970         inf  \n",
            "31            0.926829  0.292683    1.000000  1.078947  0.021416         inf  \n",
            "32            0.926829  0.317073    1.000000  1.078947  0.023200         inf  \n",
            "33            0.926829  0.243902    1.000000  1.078947  0.017847         inf  \n",
            "34            0.707317  0.121951    1.000000  1.413793  0.035693         inf  \n",
            "35            0.926829  0.170732    1.000000  1.078947  0.012493         inf  \n",
            "36            0.926829  0.170732    1.000000  1.078947  0.012493         inf  \n",
            "37            0.926829  0.146341    1.000000  1.078947  0.010708         inf  \n",
            "38            0.926829  0.121951    1.000000  1.078947  0.008923         inf  \n",
            "39            0.829268  0.146341    1.000000  1.205882  0.024985         inf  \n",
            "40            0.926829  0.146341    1.000000  1.078947  0.010708         inf  \n",
            "41            0.926829  0.121951    1.000000  1.078947  0.008923         inf  \n",
            "42            0.829268  0.170732    1.000000  1.205882  0.029149         inf  \n",
            "43            0.926829  0.170732    1.000000  1.078947  0.012493         inf  \n",
            "44            0.926829  0.146341    1.000000  1.078947  0.010708         inf  \n",
            "45            0.926829  0.121951    1.000000  1.078947  0.008923         inf  \n",
            "46            0.829268  0.195122    1.000000  1.205882  0.033314         inf  \n",
            "47            0.926829  0.195122    1.000000  1.078947  0.014277         inf  \n"
          ]
        }
      ]
    },
    {
      "cell_type": "code",
      "source": [
        "\n",
        "plt.figure(figsize=(5,5))\n",
        "sns.barplot(x = all_thresholds, y = all_rules, palette = 'gnuplot')\n",
        "plt.xlabel('Min threshold', size = 5)\n",
        "plt.xticks(rotation=45)\n",
        "plt.ylabel('Count of associated pair', size = 5)\n",
        "plt.title('Count of associated pairs per min support', color = 'green', size = 10)\n",
        "plt.show()\n",
        "print(\"Counts:\",counts)"
      ],
      "metadata": {
        "colab": {
          "base_uri": "https://localhost:8080/",
          "height": 511
        },
        "id": "EQi8HDfapASn",
        "outputId": "aaa8aeba-3eab-40e5-b1a9-4fbaef6b3f2b"
      },
      "execution_count": 116,
      "outputs": [
        {
          "output_type": "display_data",
          "data": {
            "text/plain": [
              "<Figure size 500x500 with 1 Axes>"
            ],
            "image/png": "[encoded data removed]"
          },
          "metadata": {}
        },
        {
          "output_type": "stream",
          "name": "stdout",
          "text": [
            "Counts: [374]\n"
          ]
        }
      ]
    },
    {
      "cell_type": "markdown",
      "source": [
        "На графике мы видим зависимость количества ассоциативных правил от порогового значения достоверности"
      ],
      "metadata": {
        "id": "ykyNGBV0rfea"
      }
    },
    {
      "cell_type": "code",
      "source": [
        "plt.figure(figsize=(5,5))\n",
        "sns.barplot(x = all_thresholds, y = all_assoc_rules, palette = 'gnuplot')\n",
        "plt.xlabel('Min threshold', size = 10)\n",
        "plt.xticks(rotation=45)\n",
        "plt.ylabel('Time', size = 10)\n",
        "plt.title('Time to find frequent sets per min support', color = 'green', size = 10)\n",
        "plt.show()\n",
        "print(\"Time:\",waisted_time)"
      ],
      "metadata": {
        "colab": {
          "base_uri": "https://localhost:8080/",
          "height": 519
        },
        "id": "TUaLX5F-pVSv",
        "outputId": "ae213ee3-69ea-4bad-e6c3-e3019f59004a"
      },
      "execution_count": 117,
      "outputs": [
        {
          "output_type": "display_data",
          "data": {
            "text/plain": [
              "<Figure size 500x500 with 1 Axes>"
            ],
            "image/png": "[encoded data removed]"
          },
          "metadata": {}
        },
        {
          "output_type": "stream",
          "name": "stdout",
          "text": [
            "Time: [0.03157305717468262]\n"
          ]
        }
      ]
    },
    {
      "cell_type": "markdown",
      "source": [
        "На графике мы видим зависимость времени выполнения поиска ассоциативных правил от порогового значения достоверности"
      ],
      "metadata": {
        "id": "nFutnrbZroQD"
      }
    }
  ]
}